{
 "cells": [
  {
   "cell_type": "code",
   "execution_count": 1,
   "metadata": {},
   "outputs": [],
   "source": [
    "import os\n",
    "\n",
    "PATH = os.path.dirname(os.path.abspath(__name__))\n",
    "NEW_PATH = str.replace(PATH, \"notebooks\", \"\")\n",
    "os.chdir(NEW_PATH)"
   ]
  },
  {
   "cell_type": "markdown",
   "metadata": {},
   "source": [
    "# Obtendo Dados"
   ]
  },
  {
   "cell_type": "code",
   "execution_count": 19,
   "metadata": {},
   "outputs": [],
   "source": [
    "\n",
    "from dags.apps.crawlers import Crawler"
   ]
  },
  {
   "cell_type": "code",
   "execution_count": 20,
   "metadata": {},
   "outputs": [],
   "source": [
    "crawler: Crawler = Crawler()\n",
    "crawler.main()"
   ]
  },
  {
   "cell_type": "markdown",
   "metadata": {},
   "source": [
    "# EDA"
   ]
  },
  {
   "cell_type": "code",
   "execution_count": 2,
   "metadata": {},
   "outputs": [],
   "source": [
    "# importando os dados\n",
    "import pandas as pd\n",
    "\n",
    "df_ibge = pd.read_csv(\"data/raw/ibge.csv\", sep=\",\")\n",
    "df_pnad = pd.read_csv(\"data/raw/pnad.csv\", sep=\",\")"
   ]
  },
  {
   "cell_type": "code",
   "execution_count": 3,
   "metadata": {},
   "outputs": [],
   "source": [
    "# filtrando os dados da PNAD\n",
    "df_pnad_filtered = df_pnad.loc[\n",
    "    (df_pnad.sexo == 'Mulher') & \n",
    "    (df_pnad.idade >= 20) & \n",
    "    (df_pnad.idade <= 40)\n",
    "]"
   ]
  },
  {
   "cell_type": "markdown",
   "metadata": {},
   "source": [
    "# ETL"
   ]
  },
  {
   "cell_type": "code",
   "execution_count": 93,
   "metadata": {},
   "outputs": [],
   "source": [
    "import unidecode \n",
    "# !pip install unidecode"
   ]
  },
  {
   "cell_type": "code",
   "execution_count": 94,
   "metadata": {},
   "outputs": [],
   "source": [
    "# limpando as colunas de e padronizando os textos\n",
    "df1 = df_pnad_filtered.copy()\n",
    "df2 = df_ibge.copy()\n",
    "\n",
    "f = lambda x: unidecode.unidecode(str(x).strip().upper())\n",
    "df1['uf'] = df1['uf'].apply(f)\n",
    "df1['cor'] = df1['cor'].apply(f)\n",
    "df1['sexo'] = df1['sexo'].apply(f)\n",
    "df1['graduacao'] = df1['graduacao'].apply(f)\n",
    "df1['trab'] = df1['trab'].apply(f)\n",
    "df1['ocup'] = df1['ocup'].apply(f)\n",
    "df2['nome'] = df2['nome'].apply(f)"
   ]
  },
  {
   "cell_type": "code",
   "execution_count": 95,
   "metadata": {},
   "outputs": [],
   "source": [
    "# removendo colunas desnecessárias\n",
    "df3 = df1.drop(columns=['_id', 'anosesco'])\n"
   ]
  },
  {
   "cell_type": "code",
   "execution_count": 96,
   "metadata": {},
   "outputs": [],
   "source": [
    "# Criando a tabela estados\n",
    "estados = df2[['id','sigla','nome','regiao_id']]\n",
    "estados = estados.drop_duplicates()"
   ]
  },
  {
   "cell_type": "code",
   "execution_count": 97,
   "metadata": {},
   "outputs": [],
   "source": [
    "# Criando a tabela regioes\n",
    "regioes = df2[['regiao_id','regiao_nome']]\n",
    "regioes = regioes.drop_duplicates()"
   ]
  },
  {
   "cell_type": "code",
   "execution_count": 98,
   "metadata": {},
   "outputs": [],
   "source": [
    "# buscando o id do estado\n",
    "df4 = df3.merge(estados, left_on='uf', right_on='nome', how='left')\n",
    "# df4.head()\n"
   ]
  },
  {
   "cell_type": "code",
   "execution_count": null,
   "metadata": {},
   "outputs": [],
   "source": [
    "df = pd.read_csv(\"data/raw/ibge.csv\", sep=\",\")"
   ]
  },
  {
   "cell_type": "code",
   "execution_count": 99,
   "metadata": {},
   "outputs": [],
   "source": [
    "# criando a tabela pnads\n",
    "pnads = df4[['ano', 'trimestre', 'idade','cor','sexo','graduacao','trab','ocup','renda','horastrab','id']]\n",
    "\n",
    "# renomeando as colunas\n",
    "pnads = pnads.rename(columns={\n",
    "    'id':'estado_id',\n",
    "    'trab':'tipo_trabalhador',\n",
    "    'ocup':'ocupacao'\n",
    "    })"
   ]
  },
  {
   "cell_type": "code",
   "execution_count": 15,
   "metadata": {},
   "outputs": [],
   "source": [
    "df_pnad = pd.read_csv(\"data/raw/pnad.csv\", sep=\",\")\n",
    "dim_cores = pd.read_csv(\"data/processed/dim_cores.csv\", sep=\",\")\n",
    "dim_estados = pd.read_csv(\"data/processed/dim_estados.csv\", sep=\",\")\n",
    "dim_regioes = pd.read_csv(\"data/processed/dim_regioes.csv\", sep=\",\")\n",
    "dim_tempo = pd.read_csv(\"data/processed/dim_tempo.csv\", sep=\",\")"
   ]
  },
  {
   "cell_type": "code",
   "execution_count": 8,
   "metadata": {},
   "outputs": [
    {
     "data": {
      "text/html": [
       "<div>\n",
       "<style scoped>\n",
       "    .dataframe tbody tr th:only-of-type {\n",
       "        vertical-align: middle;\n",
       "    }\n",
       "\n",
       "    .dataframe tbody tr th {\n",
       "        vertical-align: top;\n",
       "    }\n",
       "\n",
       "    .dataframe thead th {\n",
       "        text-align: right;\n",
       "    }\n",
       "</style>\n",
       "<table border=\"1\" class=\"dataframe\">\n",
       "  <thead>\n",
       "    <tr style=\"text-align: right;\">\n",
       "      <th></th>\n",
       "      <th>_id</th>\n",
       "      <th>ano</th>\n",
       "      <th>trimestre</th>\n",
       "      <th>uf</th>\n",
       "      <th>sexo</th>\n",
       "      <th>idade</th>\n",
       "      <th>cor</th>\n",
       "      <th>graduacao</th>\n",
       "      <th>trab</th>\n",
       "      <th>ocup</th>\n",
       "      <th>renda</th>\n",
       "      <th>horastrab</th>\n",
       "      <th>anosesco</th>\n",
       "      <th>data_criacao</th>\n",
       "    </tr>\n",
       "  </thead>\n",
       "  <tbody>\n",
       "    <tr>\n",
       "      <th>0</th>\n",
       "      <td>600ce0685daa95c6616007b1</td>\n",
       "      <td>2020</td>\n",
       "      <td>3</td>\n",
       "      <td>ACRE</td>\n",
       "      <td>MULHER</td>\n",
       "      <td>35</td>\n",
       "      <td>PARDA</td>\n",
       "      <td>NAN</td>\n",
       "      <td>PESSOAS NA FORCA DE TRABALHO</td>\n",
       "      <td>PESSOAS OCUPADAS</td>\n",
       "      <td>800.0</td>\n",
       "      <td>36.0</td>\n",
       "      <td>16.0</td>\n",
       "      <td>2022-10-23</td>\n",
       "    </tr>\n",
       "    <tr>\n",
       "      <th>1</th>\n",
       "      <td>600ce0685daa95c6616007db</td>\n",
       "      <td>2020</td>\n",
       "      <td>3</td>\n",
       "      <td>ACRE</td>\n",
       "      <td>MULHER</td>\n",
       "      <td>40</td>\n",
       "      <td>PARDA</td>\n",
       "      <td>NAN</td>\n",
       "      <td>PESSOAS FORA DA FORCA DE TRABALHO</td>\n",
       "      <td>NAN</td>\n",
       "      <td>NaN</td>\n",
       "      <td>NaN</td>\n",
       "      <td>12.0</td>\n",
       "      <td>2022-10-23</td>\n",
       "    </tr>\n",
       "    <tr>\n",
       "      <th>2</th>\n",
       "      <td>600ce0685daa95c6616007bf</td>\n",
       "      <td>2020</td>\n",
       "      <td>3</td>\n",
       "      <td>ACRE</td>\n",
       "      <td>MULHER</td>\n",
       "      <td>30</td>\n",
       "      <td>BRANCA</td>\n",
       "      <td>NAN</td>\n",
       "      <td>PESSOAS NA FORCA DE TRABALHO</td>\n",
       "      <td>PESSOAS OCUPADAS</td>\n",
       "      <td>1049.0</td>\n",
       "      <td>44.0</td>\n",
       "      <td>16.0</td>\n",
       "      <td>2022-10-23</td>\n",
       "    </tr>\n",
       "    <tr>\n",
       "      <th>3</th>\n",
       "      <td>600ce0685daa95c6616007cd</td>\n",
       "      <td>2020</td>\n",
       "      <td>3</td>\n",
       "      <td>ACRE</td>\n",
       "      <td>MULHER</td>\n",
       "      <td>38</td>\n",
       "      <td>PARDA</td>\n",
       "      <td>NAN</td>\n",
       "      <td>PESSOAS FORA DA FORCA DE TRABALHO</td>\n",
       "      <td>NAN</td>\n",
       "      <td>NaN</td>\n",
       "      <td>NaN</td>\n",
       "      <td>16.0</td>\n",
       "      <td>2022-10-23</td>\n",
       "    </tr>\n",
       "    <tr>\n",
       "      <th>4</th>\n",
       "      <td>600ce0685daa95c6616007d9</td>\n",
       "      <td>2020</td>\n",
       "      <td>3</td>\n",
       "      <td>ACRE</td>\n",
       "      <td>MULHER</td>\n",
       "      <td>31</td>\n",
       "      <td>BRANCA</td>\n",
       "      <td>NAN</td>\n",
       "      <td>PESSOAS NA FORCA DE TRABALHO</td>\n",
       "      <td>PESSOAS OCUPADAS</td>\n",
       "      <td>1200.0</td>\n",
       "      <td>44.0</td>\n",
       "      <td>14.0</td>\n",
       "      <td>2022-10-23</td>\n",
       "    </tr>\n",
       "  </tbody>\n",
       "</table>\n",
       "</div>"
      ],
      "text/plain": [
       "                        _id   ano  trimestre    uf    sexo  idade     cor  \\\n",
       "0  600ce0685daa95c6616007b1  2020          3  ACRE  MULHER     35   PARDA   \n",
       "1  600ce0685daa95c6616007db  2020          3  ACRE  MULHER     40   PARDA   \n",
       "2  600ce0685daa95c6616007bf  2020          3  ACRE  MULHER     30  BRANCA   \n",
       "3  600ce0685daa95c6616007cd  2020          3  ACRE  MULHER     38   PARDA   \n",
       "4  600ce0685daa95c6616007d9  2020          3  ACRE  MULHER     31  BRANCA   \n",
       "\n",
       "  graduacao                               trab              ocup   renda  \\\n",
       "0       NAN       PESSOAS NA FORCA DE TRABALHO  PESSOAS OCUPADAS   800.0   \n",
       "1       NAN  PESSOAS FORA DA FORCA DE TRABALHO               NAN     NaN   \n",
       "2       NAN       PESSOAS NA FORCA DE TRABALHO  PESSOAS OCUPADAS  1049.0   \n",
       "3       NAN  PESSOAS FORA DA FORCA DE TRABALHO               NAN     NaN   \n",
       "4       NAN       PESSOAS NA FORCA DE TRABALHO  PESSOAS OCUPADAS  1200.0   \n",
       "\n",
       "   horastrab  anosesco data_criacao  \n",
       "0       36.0      16.0   2022-10-23  \n",
       "1        NaN      12.0   2022-10-23  \n",
       "2       44.0      16.0   2022-10-23  \n",
       "3        NaN      16.0   2022-10-23  \n",
       "4       44.0      14.0   2022-10-23  "
      ]
     },
     "execution_count": 8,
     "metadata": {},
     "output_type": "execute_result"
    }
   ],
   "source": [
    "df_pnad.head(5)"
   ]
  },
  {
   "cell_type": "code",
   "execution_count": 9,
   "metadata": {},
   "outputs": [
    {
     "data": {
      "text/html": [
       "<div>\n",
       "<style scoped>\n",
       "    .dataframe tbody tr th:only-of-type {\n",
       "        vertical-align: middle;\n",
       "    }\n",
       "\n",
       "    .dataframe tbody tr th {\n",
       "        vertical-align: top;\n",
       "    }\n",
       "\n",
       "    .dataframe thead th {\n",
       "        text-align: right;\n",
       "    }\n",
       "</style>\n",
       "<table border=\"1\" class=\"dataframe\">\n",
       "  <thead>\n",
       "    <tr style=\"text-align: right;\">\n",
       "      <th></th>\n",
       "      <th>cor</th>\n",
       "      <th>data_criacao</th>\n",
       "      <th>id_cor</th>\n",
       "    </tr>\n",
       "  </thead>\n",
       "  <tbody>\n",
       "    <tr>\n",
       "      <th>0</th>\n",
       "      <td>PARDA</td>\n",
       "      <td>2022-10-23</td>\n",
       "      <td>2</td>\n",
       "    </tr>\n",
       "    <tr>\n",
       "      <th>1</th>\n",
       "      <td>BRANCA</td>\n",
       "      <td>2022-10-23</td>\n",
       "      <td>9</td>\n",
       "    </tr>\n",
       "    <tr>\n",
       "      <th>2</th>\n",
       "      <td>PRETA</td>\n",
       "      <td>2022-10-23</td>\n",
       "      <td>223</td>\n",
       "    </tr>\n",
       "    <tr>\n",
       "      <th>3</th>\n",
       "      <td>INDIGENA</td>\n",
       "      <td>2022-10-23</td>\n",
       "      <td>605</td>\n",
       "    </tr>\n",
       "    <tr>\n",
       "      <th>4</th>\n",
       "      <td>AMARELA</td>\n",
       "      <td>2022-10-23</td>\n",
       "      <td>6037</td>\n",
       "    </tr>\n",
       "  </tbody>\n",
       "</table>\n",
       "</div>"
      ],
      "text/plain": [
       "        cor data_criacao  id_cor\n",
       "0     PARDA   2022-10-23       2\n",
       "1    BRANCA   2022-10-23       9\n",
       "2     PRETA   2022-10-23     223\n",
       "3  INDIGENA   2022-10-23     605\n",
       "4   AMARELA   2022-10-23    6037"
      ]
     },
     "execution_count": 9,
     "metadata": {},
     "output_type": "execute_result"
    }
   ],
   "source": [
    "dim_cores.head()"
   ]
  },
  {
   "cell_type": "code",
   "execution_count": 12,
   "metadata": {},
   "outputs": [
    {
     "data": {
      "text/html": [
       "<div>\n",
       "<style scoped>\n",
       "    .dataframe tbody tr th:only-of-type {\n",
       "        vertical-align: middle;\n",
       "    }\n",
       "\n",
       "    .dataframe tbody tr th {\n",
       "        vertical-align: top;\n",
       "    }\n",
       "\n",
       "    .dataframe thead th {\n",
       "        text-align: right;\n",
       "    }\n",
       "</style>\n",
       "<table border=\"1\" class=\"dataframe\">\n",
       "  <thead>\n",
       "    <tr style=\"text-align: right;\">\n",
       "      <th></th>\n",
       "      <th>id</th>\n",
       "      <th>sigla</th>\n",
       "      <th>nome</th>\n",
       "      <th>regiao_id</th>\n",
       "      <th>data_criacao</th>\n",
       "    </tr>\n",
       "  </thead>\n",
       "  <tbody>\n",
       "    <tr>\n",
       "      <th>0</th>\n",
       "      <td>11</td>\n",
       "      <td>RO</td>\n",
       "      <td>RONDONIA</td>\n",
       "      <td>1</td>\n",
       "      <td>2022-10-23</td>\n",
       "    </tr>\n",
       "    <tr>\n",
       "      <th>1</th>\n",
       "      <td>12</td>\n",
       "      <td>AC</td>\n",
       "      <td>ACRE</td>\n",
       "      <td>1</td>\n",
       "      <td>2022-10-23</td>\n",
       "    </tr>\n",
       "    <tr>\n",
       "      <th>2</th>\n",
       "      <td>13</td>\n",
       "      <td>AM</td>\n",
       "      <td>AMAZONAS</td>\n",
       "      <td>1</td>\n",
       "      <td>2022-10-23</td>\n",
       "    </tr>\n",
       "    <tr>\n",
       "      <th>3</th>\n",
       "      <td>14</td>\n",
       "      <td>RR</td>\n",
       "      <td>RORAIMA</td>\n",
       "      <td>1</td>\n",
       "      <td>2022-10-23</td>\n",
       "    </tr>\n",
       "    <tr>\n",
       "      <th>4</th>\n",
       "      <td>15</td>\n",
       "      <td>PA</td>\n",
       "      <td>PARA</td>\n",
       "      <td>1</td>\n",
       "      <td>2022-10-23</td>\n",
       "    </tr>\n",
       "  </tbody>\n",
       "</table>\n",
       "</div>"
      ],
      "text/plain": [
       "   id sigla      nome  regiao_id data_criacao\n",
       "0  11    RO  RONDONIA          1   2022-10-23\n",
       "1  12    AC      ACRE          1   2022-10-23\n",
       "2  13    AM  AMAZONAS          1   2022-10-23\n",
       "3  14    RR   RORAIMA          1   2022-10-23\n",
       "4  15    PA      PARA          1   2022-10-23"
      ]
     },
     "execution_count": 12,
     "metadata": {},
     "output_type": "execute_result"
    }
   ],
   "source": [
    "dim_estados.head()"
   ]
  },
  {
   "cell_type": "code",
   "execution_count": 54,
   "metadata": {},
   "outputs": [],
   "source": [
    "# buscando a cor\n",
    "df = df_pnad.merge(dim_cores, left_on='cor', right_on='cor', how='left')"
   ]
  },
  {
   "cell_type": "code",
   "execution_count": 55,
   "metadata": {},
   "outputs": [],
   "source": [
    "# df = df.merge(dim_estados, left_on='uf', right_on='nome', how='left')"
   ]
  },
  {
   "cell_type": "code",
   "execution_count": 56,
   "metadata": {},
   "outputs": [],
   "source": [
    "# busca estados\n",
    "df = df.merge(dim_estados, left_on='uf', right_on='nome', how='left')"
   ]
  },
  {
   "cell_type": "code",
   "execution_count": 57,
   "metadata": {},
   "outputs": [
    {
     "data": {
      "text/html": [
       "<div>\n",
       "<style scoped>\n",
       "    .dataframe tbody tr th:only-of-type {\n",
       "        vertical-align: middle;\n",
       "    }\n",
       "\n",
       "    .dataframe tbody tr th {\n",
       "        vertical-align: top;\n",
       "    }\n",
       "\n",
       "    .dataframe thead th {\n",
       "        text-align: right;\n",
       "    }\n",
       "</style>\n",
       "<table border=\"1\" class=\"dataframe\">\n",
       "  <thead>\n",
       "    <tr style=\"text-align: right;\">\n",
       "      <th></th>\n",
       "      <th>data</th>\n",
       "      <th>ano</th>\n",
       "      <th>trimestre</th>\n",
       "      <th>id_calendario</th>\n",
       "    </tr>\n",
       "  </thead>\n",
       "  <tbody>\n",
       "    <tr>\n",
       "      <th>0</th>\n",
       "      <td>2000-01-01</td>\n",
       "      <td>2000</td>\n",
       "      <td>1</td>\n",
       "      <td>2001</td>\n",
       "    </tr>\n",
       "    <tr>\n",
       "      <th>1</th>\n",
       "      <td>2000-04-01</td>\n",
       "      <td>2000</td>\n",
       "      <td>2</td>\n",
       "      <td>2002</td>\n",
       "    </tr>\n",
       "    <tr>\n",
       "      <th>2</th>\n",
       "      <td>2000-07-01</td>\n",
       "      <td>2000</td>\n",
       "      <td>3</td>\n",
       "      <td>2003</td>\n",
       "    </tr>\n",
       "    <tr>\n",
       "      <th>3</th>\n",
       "      <td>2000-10-01</td>\n",
       "      <td>2000</td>\n",
       "      <td>4</td>\n",
       "      <td>2004</td>\n",
       "    </tr>\n",
       "    <tr>\n",
       "      <th>4</th>\n",
       "      <td>2001-10-01</td>\n",
       "      <td>2001</td>\n",
       "      <td>4</td>\n",
       "      <td>2005</td>\n",
       "    </tr>\n",
       "  </tbody>\n",
       "</table>\n",
       "</div>"
      ],
      "text/plain": [
       "         data   ano  trimestre  id_calendario\n",
       "0  2000-01-01  2000          1           2001\n",
       "1  2000-04-01  2000          2           2002\n",
       "2  2000-07-01  2000          3           2003\n",
       "3  2000-10-01  2000          4           2004\n",
       "4  2001-10-01  2001          4           2005"
      ]
     },
     "execution_count": 57,
     "metadata": {},
     "output_type": "execute_result"
    }
   ],
   "source": [
    "dim_tempo.head(5)"
   ]
  },
  {
   "cell_type": "code",
   "execution_count": 58,
   "metadata": {},
   "outputs": [],
   "source": [
    "# cria a sk_data\n",
    "f = lambda x: int(str(x['trimestre'])+str(x['ano']))\n",
    "df['sk_tempo'] = df.apply(f, axis=1)"
   ]
  },
  {
   "cell_type": "code",
   "execution_count": 59,
   "metadata": {},
   "outputs": [
    {
     "name": "stdout",
     "output_type": "stream",
     "text": [
      "<class 'pandas.core.frame.DataFrame'>\n",
      "Int64Index: 57335 entries, 0 to 57334\n",
      "Data columns (total 22 columns):\n",
      " #   Column          Non-Null Count  Dtype  \n",
      "---  ------          --------------  -----  \n",
      " 0   _id             57335 non-null  object \n",
      " 1   ano             57335 non-null  int64  \n",
      " 2   trimestre       57335 non-null  int64  \n",
      " 3   uf              57335 non-null  object \n",
      " 4   sexo            57335 non-null  object \n",
      " 5   idade           57335 non-null  int64  \n",
      " 6   cor             57335 non-null  object \n",
      " 7   graduacao       57335 non-null  object \n",
      " 8   trab            57335 non-null  object \n",
      " 9   ocup            57335 non-null  object \n",
      " 10  renda           26792 non-null  float64\n",
      " 11  horastrab       28012 non-null  float64\n",
      " 12  anosesco        57335 non-null  float64\n",
      " 13  data_criacao_x  57335 non-null  object \n",
      " 14  data_criacao_y  57335 non-null  object \n",
      " 15  id_cor          57335 non-null  int64  \n",
      " 16  id              57335 non-null  int64  \n",
      " 17  sigla           57335 non-null  object \n",
      " 18  nome            57335 non-null  object \n",
      " 19  regiao_id       57335 non-null  int64  \n",
      " 20  data_criacao    57335 non-null  object \n",
      " 21  sk_data         57335 non-null  int64  \n",
      "dtypes: float64(3), int64(7), object(12)\n",
      "memory usage: 10.1+ MB\n"
     ]
    }
   ],
   "source": [
    "df.info()"
   ]
  },
  {
   "cell_type": "code",
   "execution_count": 60,
   "metadata": {},
   "outputs": [],
   "source": [
    "# filtrando as colunas\n",
    "mask = ['sk_data', 'id_cor', 'id']\n",
    "df1 = df[mask]"
   ]
  },
  {
   "cell_type": "code",
   "execution_count": 61,
   "metadata": {},
   "outputs": [
    {
     "data": {
      "text/plain": [
       "NAN    51340\n",
       "NAO     5441\n",
       "SIM      554\n",
       "Name: graduacao, dtype: int64"
      ]
     },
     "execution_count": 61,
     "metadata": {},
     "output_type": "execute_result"
    }
   ],
   "source": [
    "df['graduacao'].value_counts()"
   ]
  },
  {
   "cell_type": "code",
   "execution_count": 62,
   "metadata": {},
   "outputs": [],
   "source": [
    "df['graduacao'].replace(\n",
    "    {'SIM':1,\n",
    "    'NAO': pd.NA,\n",
    "    'NAN': pd.NA}, inplace=True)"
   ]
  },
  {
   "cell_type": "code",
   "execution_count": 67,
   "metadata": {},
   "outputs": [],
   "source": [
    "df['ocup'].replace(\n",
    "    {'PESSOAS OCUPADAS':1,\n",
    "    'PESSOAS DESOCUPADAS': pd.NA,\n",
    "    'NAN': pd.NA}, inplace=True)"
   ]
  },
  {
   "cell_type": "code",
   "execution_count": 71,
   "metadata": {},
   "outputs": [
    {
     "data": {
      "text/plain": [
       "1809.284263959391"
      ]
     },
     "execution_count": 71,
     "metadata": {},
     "output_type": "execute_result"
    }
   ],
   "source": [
    "df['renda'].mean()"
   ]
  },
  {
   "cell_type": "code",
   "execution_count": 70,
   "metadata": {},
   "outputs": [
    {
     "data": {
      "text/plain": [
       "33.66560759674425"
      ]
     },
     "execution_count": 70,
     "metadata": {},
     "output_type": "execute_result"
    }
   ],
   "source": [
    "df['horastrab'].mean()"
   ]
  },
  {
   "cell_type": "code",
   "execution_count": 76,
   "metadata": {},
   "outputs": [],
   "source": [
    "mask = ['sk_data', 'id_cor', 'id']\n",
    "fato_pnad = df.groupby(mask, as_index=False).agg(\n",
    "    {\n",
    "    '_id':'count',\n",
    "    'graduacao': 'sum',\n",
    "    'ocup': 'sum',\n",
    "    'renda': 'mean',\n",
    "    'horastrab': 'mean'})"
   ]
  },
  {
   "cell_type": "code",
   "execution_count": 78,
   "metadata": {},
   "outputs": [],
   "source": [
    "fato_pnad.fillna(0, inplace=True)"
   ]
  },
  {
   "cell_type": "code",
   "execution_count": 80,
   "metadata": {},
   "outputs": [],
   "source": [
    "fato_pnad.rename(columns={\n",
    "    'id_cor': 'sk_cor',\n",
    "    'id': 'sk_estado',\n",
    "    '_id': 'qtd_pessoas',\n",
    "    'graduacao': 'qtd_graduacao',\n",
    "    'ocup': 'qtd_ocupados',\n",
    "    'renda': 'renda_media',\n",
    "    'horastrab': 'horastrab_media'}, inplace=True)"
   ]
  },
  {
   "cell_type": "code",
   "execution_count": 81,
   "metadata": {},
   "outputs": [
    {
     "data": {
      "text/html": [
       "<div>\n",
       "<style scoped>\n",
       "    .dataframe tbody tr th:only-of-type {\n",
       "        vertical-align: middle;\n",
       "    }\n",
       "\n",
       "    .dataframe tbody tr th {\n",
       "        vertical-align: top;\n",
       "    }\n",
       "\n",
       "    .dataframe thead th {\n",
       "        text-align: right;\n",
       "    }\n",
       "</style>\n",
       "<table border=\"1\" class=\"dataframe\">\n",
       "  <thead>\n",
       "    <tr style=\"text-align: right;\">\n",
       "      <th></th>\n",
       "      <th>sk_data</th>\n",
       "      <th>sk_cor</th>\n",
       "      <th>sk_estado</th>\n",
       "      <th>qtd_pessoas</th>\n",
       "      <th>qtd_graduacao</th>\n",
       "      <th>qtd_ocupados</th>\n",
       "      <th>renda_media</th>\n",
       "      <th>horastrab_media</th>\n",
       "    </tr>\n",
       "  </thead>\n",
       "  <tbody>\n",
       "    <tr>\n",
       "      <th>0</th>\n",
       "      <td>32020</td>\n",
       "      <td>2</td>\n",
       "      <td>11</td>\n",
       "      <td>645</td>\n",
       "      <td>6</td>\n",
       "      <td>310</td>\n",
       "      <td>1543.951220</td>\n",
       "      <td>34.951613</td>\n",
       "    </tr>\n",
       "    <tr>\n",
       "      <th>1</th>\n",
       "      <td>32020</td>\n",
       "      <td>2</td>\n",
       "      <td>12</td>\n",
       "      <td>851</td>\n",
       "      <td>8</td>\n",
       "      <td>314</td>\n",
       "      <td>1605.186275</td>\n",
       "      <td>31.394904</td>\n",
       "    </tr>\n",
       "    <tr>\n",
       "      <th>2</th>\n",
       "      <td>32020</td>\n",
       "      <td>2</td>\n",
       "      <td>13</td>\n",
       "      <td>1482</td>\n",
       "      <td>8</td>\n",
       "      <td>676</td>\n",
       "      <td>1429.670796</td>\n",
       "      <td>32.170118</td>\n",
       "    </tr>\n",
       "    <tr>\n",
       "      <th>3</th>\n",
       "      <td>32020</td>\n",
       "      <td>2</td>\n",
       "      <td>14</td>\n",
       "      <td>652</td>\n",
       "      <td>8</td>\n",
       "      <td>274</td>\n",
       "      <td>1626.836431</td>\n",
       "      <td>33.832117</td>\n",
       "    </tr>\n",
       "    <tr>\n",
       "      <th>4</th>\n",
       "      <td>32020</td>\n",
       "      <td>2</td>\n",
       "      <td>15</td>\n",
       "      <td>1605</td>\n",
       "      <td>13</td>\n",
       "      <td>697</td>\n",
       "      <td>1289.337559</td>\n",
       "      <td>31.116212</td>\n",
       "    </tr>\n",
       "    <tr>\n",
       "      <th>...</th>\n",
       "      <td>...</td>\n",
       "      <td>...</td>\n",
       "      <td>...</td>\n",
       "      <td>...</td>\n",
       "      <td>...</td>\n",
       "      <td>...</td>\n",
       "      <td>...</td>\n",
       "      <td>...</td>\n",
       "    </tr>\n",
       "    <tr>\n",
       "      <th>132</th>\n",
       "      <td>32020</td>\n",
       "      <td>49481</td>\n",
       "      <td>31</td>\n",
       "      <td>1</td>\n",
       "      <td>0</td>\n",
       "      <td>1</td>\n",
       "      <td>1045.000000</td>\n",
       "      <td>30.000000</td>\n",
       "    </tr>\n",
       "    <tr>\n",
       "      <th>133</th>\n",
       "      <td>32020</td>\n",
       "      <td>49481</td>\n",
       "      <td>33</td>\n",
       "      <td>1</td>\n",
       "      <td>0</td>\n",
       "      <td>1</td>\n",
       "      <td>2000.000000</td>\n",
       "      <td>30.000000</td>\n",
       "    </tr>\n",
       "    <tr>\n",
       "      <th>134</th>\n",
       "      <td>32020</td>\n",
       "      <td>49481</td>\n",
       "      <td>42</td>\n",
       "      <td>1</td>\n",
       "      <td>0</td>\n",
       "      <td>0</td>\n",
       "      <td>0.000000</td>\n",
       "      <td>0.000000</td>\n",
       "    </tr>\n",
       "    <tr>\n",
       "      <th>135</th>\n",
       "      <td>32020</td>\n",
       "      <td>49481</td>\n",
       "      <td>50</td>\n",
       "      <td>2</td>\n",
       "      <td>0</td>\n",
       "      <td>1</td>\n",
       "      <td>400.000000</td>\n",
       "      <td>98.000000</td>\n",
       "    </tr>\n",
       "    <tr>\n",
       "      <th>136</th>\n",
       "      <td>32020</td>\n",
       "      <td>49481</td>\n",
       "      <td>53</td>\n",
       "      <td>2</td>\n",
       "      <td>0</td>\n",
       "      <td>2</td>\n",
       "      <td>1600.000000</td>\n",
       "      <td>37.000000</td>\n",
       "    </tr>\n",
       "  </tbody>\n",
       "</table>\n",
       "<p>137 rows × 8 columns</p>\n",
       "</div>"
      ],
      "text/plain": [
       "     sk_data  sk_cor  sk_estado  qtd_pessoas qtd_graduacao qtd_ocupados  \\\n",
       "0      32020       2         11          645             6          310   \n",
       "1      32020       2         12          851             8          314   \n",
       "2      32020       2         13         1482             8          676   \n",
       "3      32020       2         14          652             8          274   \n",
       "4      32020       2         15         1605            13          697   \n",
       "..       ...     ...        ...          ...           ...          ...   \n",
       "132    32020   49481         31            1             0            1   \n",
       "133    32020   49481         33            1             0            1   \n",
       "134    32020   49481         42            1             0            0   \n",
       "135    32020   49481         50            2             0            1   \n",
       "136    32020   49481         53            2             0            2   \n",
       "\n",
       "     renda_media  horastrab_media  \n",
       "0    1543.951220        34.951613  \n",
       "1    1605.186275        31.394904  \n",
       "2    1429.670796        32.170118  \n",
       "3    1626.836431        33.832117  \n",
       "4    1289.337559        31.116212  \n",
       "..           ...              ...  \n",
       "132  1045.000000        30.000000  \n",
       "133  2000.000000        30.000000  \n",
       "134     0.000000         0.000000  \n",
       "135   400.000000        98.000000  \n",
       "136  1600.000000        37.000000  \n",
       "\n",
       "[137 rows x 8 columns]"
      ]
     },
     "execution_count": 81,
     "metadata": {},
     "output_type": "execute_result"
    }
   ],
   "source": [
    "fato_pnad"
   ]
  },
  {
   "cell_type": "code",
   "execution_count": null,
   "metadata": {},
   "outputs": [],
   "source": []
  }
 ],
 "metadata": {
  "kernelspec": {
   "display_name": "Python 3.10.7 ('projeto_final_xp')",
   "language": "python",
   "name": "python3"
  },
  "language_info": {
   "codemirror_mode": {
    "name": "ipython",
    "version": 3
   },
   "file_extension": ".py",
   "mimetype": "text/x-python",
   "name": "python",
   "nbconvert_exporter": "python",
   "pygments_lexer": "ipython3",
   "version": "3.10.7"
  },
  "orig_nbformat": 4,
  "vscode": {
   "interpreter": {
    "hash": "67b567e9634a8e8b6753b12528af6fc60f6b73147c3c8f2441adb58273b471ba"
   }
  }
 },
 "nbformat": 4,
 "nbformat_minor": 2
}
